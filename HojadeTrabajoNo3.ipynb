{
 "cells": [
  {
   "cell_type": "markdown",
   "metadata": {},
   "source": [
    "![logo](https://eventos.galileo.edu/images/logo-noslogan.png)"
   ]
  },
  {
   "cell_type": "markdown",
   "metadata": {},
   "source": [
    "### Postgrado en Analisis y Prediccion de Datos"
   ]
  },
  {
   "cell_type": "markdown",
   "metadata": {},
   "source": [
    "#### Hoja de Trabajo # 3: *Diccionarios, Sets y Programacion Orientada a Objetos*"
   ]
  },
  {
   "cell_type": "markdown",
   "metadata": {},
   "source": [
    "---"
   ]
  },
  {
   "cell_type": "markdown",
   "metadata": {},
   "source": [
    "Parte #1 - (Programación Orientada a Objetos): Genere una clase llamada ?my regresion? en Python puro (sin utilizar ninguna librería) que sea capaz de encontrar de forma analítica los coeficientes de una regresión lineal (β0 y β1). Su clase debe poseer los siguientes campos: β0, β1 los cuales representan los parámetros de la regresión, X y Y los cuales representan la lista de valores con los que se calcularon los parámetros de la regresión. Adicionalmente su clase debe poseer los siguientes métodos:"
   ]
  },
  {
   "cell_type": "code",
   "execution_count": 135,
   "metadata": {},
   "outputs": [],
   "source": [
    "class regression():\n",
    "    def __init__(self,x,y):\n",
    "        \n",
    "        self.valx = x\n",
    "        self.valy= y\n",
    "        self.xsum = sum(self.valx)\n",
    "        self.ysum = sum(self.valy)\n",
    "        self.n = len(self.valx)\n",
    "        self.producto = sum([i*n for i,n in zip(self.valx,self.valy)])\n",
    "        self.sumapotencia = sum([i**2 for i in self.valx])\n",
    "        self.b0 = (((self.n)*(self.producto))-((self.xsum)*(self.ysum)))/(((self.n)*(self.sumapotencia))-((self.xsum)**2))\n",
    "        self.b1 = (((self.sumapotencia)*(self.ysum))-((self.xsum)*(self.producto)))/(((self.n)*(self.sumapotencia))-((self.xsum)**2))\n",
    "        \n",
    "    def predict(self, val):\n",
    "        self.pronostico = (self.b0*val) + self.b1\n",
    "        return print(f'Para el valor de {val} el valor pronosticado es: {round(self.pronostico,2)}')\n",
    "    \n",
    "    def predictN(self, vals):\n",
    "        self.npronostico = []\n",
    "        for i in vals:\n",
    "            self.npronostico.append(self.b0*i + self.b1)\n",
    "        self.aprox = [round(i,2) for i in self.npronostico]\n",
    "        print('A continuacion se muestran los pares(valor,pronostico)')\n",
    "        return list(zip(vals,self.aprox))\n",
    "    \n",
    "    def r2(self):\n",
    "        self.ypronostico = []\n",
    "        for i in self.valy:\n",
    "            self.ypronostico.append(self.b0*i + self.b1)\n",
    "        self.avg = sum(self.ypronostico)/len(self.ypronostico)\n",
    "        self.numerador = sum([(i - self.avg)**2 for i in self.ypronostico])\n",
    "        self.denominador = sum([(i -n)**2 for i,n in zip(self.ypronostico,self.valy)])\n",
    "        self.rcuadrado = round(self.numerador/self.denominador,4)\n",
    "        return print(f'El valor de r2 para este modelo es de {self.rcuadrado}')\n",
    "    \n",
    "    def r(self):\n",
    "        self.rraiz = round((self.numerador/self.denominador)**(1/2),4)\n",
    "        return print(f'El valor de r para este modelo es de {self.rraiz}')\n",
    "    \n",
    "    def gelAllRegParams(self):\n",
    "        self.params = {}\n",
    "        self.params['b0'] = round(self.b0,5)\n",
    "        self.params['b1'] = round(self.b1,5)\n",
    "        self.params['r2'] = round(self.rcuadrado,5)\n",
    "        self.params['r'] = round(self.rraiz,5)\n",
    "        print('A continuacion se muestran los parametros y estadisticos del modelo de regresion')\n",
    "        return self.params\n",
    "    \n",
    "    @classmethod\n",
    "    def from_file(cls, path):\n",
    "        cls.abrir = path\n",
    "        cls.open = open(cls.abrir)\n",
    "        cls.xvalues = []\n",
    "        cls.yvalues = []\n",
    "        for row in cls.open:\n",
    "            cls.xvalues.append(row.split(',')[0])\n",
    "            cls.yvalues.append(row.split(',')[1])\n",
    "        cls.open.close()\n",
    "        del cls.xvalues[0]\n",
    "        del cls.yvalues[0]\n",
    "        cls.xvalues = [float(i) for i in cls.xvalues]\n",
    "        cls.yvalues = [float(i) for i in cls.yvalues]\n",
    "        cls.xvalsum = sum(cls.xvalues)\n",
    "        cls.yvalsum = sum(cls.yvalues)\n",
    "        cls.n2 = len(cls.xvalues)\n",
    "        cls.csvproducto = sum([i*n for i,n in zip(cls.xvalues,cls.yvalues)])\n",
    "        cls.csvsumapotencia = sum([i**2 for i in cls.xvalues])\n",
    "        cls.nb0 = round((((cls.n2)*(cls.csvproducto))-((cls.xvalsum)*(cls.yvalsum)))/(((cls.n2)*(cls.csvsumapotencia))-((cls.xvalsum)**2)),4)\n",
    "        cls.nb1 = round((((cls.csvsumapotencia)*(cls.yvalsum))-((cls.xvalsum)*(cls.csvproducto)))/(((cls.n2)*(cls.csvsumapotencia))-((cls.xvalsum)**2)),4)\n",
    "        print('Los valores de x:')\n",
    "        print(cls.xvalues)\n",
    "        print('\\nLos valores de y:')\n",
    "        print(cls.yvalues)\n",
    "        print(f'\\nEl modelo de regresion lineal para el set de datos en el archivo CSV viene dado por y = ({cls.nb0})x + ({cls.nb1})')\n",
    "        \n",
    "       \n",
    "    \n",
    "    "
   ]
  },
  {
   "cell_type": "markdown",
   "metadata": {},
   "source": [
    "## Ejercicio"
   ]
  },
  {
   "cell_type": "markdown",
   "metadata": {},
   "source": [
    "Se cargan dos listas que representan los elementos de X y Y que serivan de parametros para la clase de regresion."
   ]
  },
  {
   "cell_type": "code",
   "execution_count": 136,
   "metadata": {},
   "outputs": [],
   "source": [
    "x = [1000, 1125, 1087, 1070, 1100, 1150, 1250, 1150, 1100, 1350, 1275, 1375, 1175, 1200, 1175, 1300, 1260, 1330, 1325, 1200, 1225, 1090, 1075, 1080, 1080, 1180, 1225, 1175, 1250, 1250, 750, 1125, 700, 900, 900, 850, \n",
    "]\n",
    "y = [1050, 1150, 1213, 1275, 1300, 1300, 1400, 1400, 1250, 1830, 1350, 1450, 1300, 1300, 1275, 1375, 1285, 1400, 1400, 1285, 1275, 1135, 1250, 1275, 1150, 1250, 1275, 1225, 1280, 1300, 1250, 1175, 1300, 1250, 1300, 1200, \n",
    "]\n"
   ]
  },
  {
   "cell_type": "code",
   "execution_count": 137,
   "metadata": {},
   "outputs": [],
   "source": [
    "ejercicio = regression(x,y)"
   ]
  },
  {
   "cell_type": "markdown",
   "metadata": {},
   "source": [
    "### Metodo Predict(val)"
   ]
  },
  {
   "cell_type": "code",
   "execution_count": 138,
   "metadata": {},
   "outputs": [
    {
     "name": "stdout",
     "output_type": "stream",
     "text": [
      "Para el valor de 1850 el valor pronosticado es: 1557.95\n"
     ]
    }
   ],
   "source": [
    "ejercicio.predict(1850)"
   ]
  },
  {
   "cell_type": "code",
   "execution_count": 139,
   "metadata": {},
   "outputs": [
    {
     "name": "stdout",
     "output_type": "stream",
     "text": [
      "Para el valor de 2000 el valor pronosticado es: 1613.92\n"
     ]
    }
   ],
   "source": [
    "ejercicio.predict(2000)"
   ]
  },
  {
   "cell_type": "markdown",
   "metadata": {},
   "source": [
    "### Metodo PredictN(vals)"
   ]
  },
  {
   "cell_type": "code",
   "execution_count": 140,
   "metadata": {},
   "outputs": [],
   "source": [
    "valores = [1850,2000,2030,2100,2150,2200]"
   ]
  },
  {
   "cell_type": "code",
   "execution_count": 141,
   "metadata": {},
   "outputs": [
    {
     "name": "stdout",
     "output_type": "stream",
     "text": [
      "A continuacion se muestran los pares(valor,pronostico)\n"
     ]
    },
    {
     "data": {
      "text/plain": [
       "[(1850, 1557.95),\n",
       " (2000, 1613.92),\n",
       " (2030, 1625.11),\n",
       " (2100, 1651.24),\n",
       " (2150, 1669.89),\n",
       " (2200, 1688.55)]"
      ]
     },
     "execution_count": 141,
     "metadata": {},
     "output_type": "execute_result"
    }
   ],
   "source": [
    "ejercicio.predictN(valores)"
   ]
  },
  {
   "cell_type": "markdown",
   "metadata": {},
   "source": [
    "### Metodo r2()"
   ]
  },
  {
   "cell_type": "code",
   "execution_count": 142,
   "metadata": {},
   "outputs": [
    {
     "name": "stdout",
     "output_type": "stream",
     "text": [
      "El valor de r2 para este modelo es de 0.2245\n"
     ]
    }
   ],
   "source": [
    "ejercicio.r2()"
   ]
  },
  {
   "cell_type": "markdown",
   "metadata": {},
   "source": [
    "### Metodo r()"
   ]
  },
  {
   "cell_type": "code",
   "execution_count": 143,
   "metadata": {},
   "outputs": [
    {
     "name": "stdout",
     "output_type": "stream",
     "text": [
      "El valor de r para este modelo es de 0.4738\n"
     ]
    }
   ],
   "source": [
    "ejercicio.r()"
   ]
  },
  {
   "cell_type": "markdown",
   "metadata": {},
   "source": [
    "### Metodo gelAllRegParams()"
   ]
  },
  {
   "cell_type": "code",
   "execution_count": 144,
   "metadata": {},
   "outputs": [
    {
     "name": "stdout",
     "output_type": "stream",
     "text": [
      "A continuacion se muestran los parametros y estadisticos del modelo de regresion\n"
     ]
    },
    {
     "data": {
      "text/plain": [
       "{'b0': 0.37316, 'b1': 867.60422, 'r2': 0.2245, 'r': 0.4738}"
      ]
     },
     "execution_count": 144,
     "metadata": {},
     "output_type": "execute_result"
    }
   ],
   "source": [
    "ejercicio.gelAllRegParams()"
   ]
  },
  {
   "cell_type": "markdown",
   "metadata": {},
   "source": [
    "### Constructor from_file(fileName)"
   ]
  },
  {
   "cell_type": "markdown",
   "metadata": {},
   "source": [
    "Se obtiene un modelo de regresion lineal en base a un archivo CSV que se encuentra en el mismo directorio que este notebook."
   ]
  },
  {
   "cell_type": "code",
   "execution_count": 145,
   "metadata": {},
   "outputs": [
    {
     "name": "stdout",
     "output_type": "stream",
     "text": [
      "Los valores de x:\n",
      "[6.2, 9.5, 10.5, 7.7, 8.6, 34.1, 11.0, 6.9, 7.3, 15.1, 29.1, 2.2, 5.7, 2.0, 2.5, 4.0, 5.4, 2.2, 7.2, 15.1, 16.5, 18.4, 36.2, 39.7, 18.5, 23.3, 12.2, 5.6, 21.8, 21.6, 9.0, 3.6, 5.0, 28.6, 17.4, 11.3, 3.4, 11.9, 10.5, 10.7, 10.8, 4.8]\n",
      "\n",
      "Los valores de y:\n",
      "[29.0, 44.0, 36.0, 37.0, 53.0, 68.0, 75.0, 18.0, 31.0, 25.0, 34.0, 14.0, 11.0, 11.0, 22.0, 16.0, 27.0, 9.0, 29.0, 30.0, 40.0, 32.0, 41.0, 147.0, 22.0, 29.0, 46.0, 23.0, 4.0, 31.0, 39.0, 15.0, 32.0, 27.0, 32.0, 34.0, 17.0, 46.0, 42.0, 43.0, 34.0, 19.0]\n",
      "\n",
      "El modelo de regresion lineal para el set de datos en el archivo CSV viene dado por y = (1.3135)x + (16.9952)\n"
     ]
    }
   ],
   "source": [
    "ejercicio.from_file('dataregresion.csv')"
   ]
  },
  {
   "cell_type": "code",
   "execution_count": null,
   "metadata": {},
   "outputs": [],
   "source": []
  }
 ],
 "metadata": {
  "kernelspec": {
   "display_name": "Python 3",
   "language": "python",
   "name": "python3"
  },
  "language_info": {
   "codemirror_mode": {
    "name": "ipython",
    "version": 3
   },
   "file_extension": ".py",
   "mimetype": "text/x-python",
   "name": "python",
   "nbconvert_exporter": "python",
   "pygments_lexer": "ipython3",
   "version": "3.8.3"
  }
 },
 "nbformat": 4,
 "nbformat_minor": 4
}
